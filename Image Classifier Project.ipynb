{
 "cells": [
  {
   "cell_type": "markdown",
   "metadata": {},
   "source": [
    "# Developing an AI application\n",
    "\n",
    "Going forward, AI algorithms will be incorporated into more and more everyday applications. For example, you might want to include an image classifier in a smart phone app. To do this, you'd use a deep learning model trained on hundreds of thousands of images as part of the overall application architecture. A large part of software development in the future will be using these types of models as common parts of applications. \n",
    "\n",
    "In this project, you'll train an image classifier to recognize different species of flowers. You can imagine using something like this in a phone app that tells you the name of the flower your camera is looking at. In practice you'd train this classifier, then export it for use in your application. We'll be using [this dataset](http://www.robots.ox.ac.uk/~vgg/data/flowers/102/index.html) of 102 flower categories, you can see a few examples below. \n",
    "\n",
    "<img src='assets/Flowers.png' width=500px>\n",
    "\n",
    "The project is broken down into multiple steps:\n",
    "\n",
    "* Load and preprocess the image dataset\n",
    "* Train the image classifier on your dataset\n",
    "* Use the trained classifier to predict image content\n",
    "\n",
    "We'll lead you through each part which you'll implement in Python.\n",
    "\n",
    "When you've completed this project, you'll have an application that can be trained on any set of labeled images. Here your network will be learning about flowers and end up as a command line application. But, what you do with your new skills depends on your imagination and effort in building a dataset. For example, imagine an app where you take a picture of a car, it tells you what the make and model is, then looks up information about it. Go build your own dataset and make something new.\n",
    "\n",
    "First up is importing the packages you'll need. It's good practice to keep all the imports at the beginning of your code. As you work through this notebook and find you need to import a package, make sure to add the import up here."
   ]
  },
  {
   "cell_type": "code",
   "execution_count": null,
   "metadata": {},
   "outputs": [],
   "source": [
    "# Download the dataset\n",
    "# This cell has to run only once. \n",
    "# NO need to run every time you arrive on this notebook. \n",
    "\n",
    "import requests\n",
    "import tarfile\n",
    "import os\n",
    "import shutil\n",
    "\n",
    "# Define the URL and folder paths\n",
    "url = \"https://s3.amazonaws.com/content.udacity-data.com/nd089/flower_data.tar.gz\"\n",
    "folder_name = \"flowers\"\n",
    "file_name = \"flower_data.tar.gz\"\n",
    "file_path = os.path.join(folder_name, file_name)\n",
    "\n",
    "# Remove the folder or symbolic link if it already exists (equivalent to `rm -rf flowers`)\n",
    "try:\n",
    "    if os.path.islink(folder_name) or os.path.isfile(folder_name):\n",
    "        os.remove(folder_name)  # Remove the symbolic link or file\n",
    "    elif os.path.isdir(folder_name):\n",
    "        shutil.rmtree(folder_name)  # Remove the directory\n",
    "    print(f\"Removed existing {folder_name} folder/file/soft link, if any.\")\n",
    "except FileNotFoundError:\n",
    "    pass  # If the file or directory does not exist, do nothing\n",
    "\n",
    "# Create the folder\n",
    "os.makedirs(folder_name)\n",
    "print(f\"Created folder: {folder_name}\")\n",
    "\n",
    "# Download the file\n",
    "response = requests.get(url, stream=True)\n",
    "\n",
    "# Save the file in the 'flowers' folder\n",
    "with open(file_path, \"wb\") as file:\n",
    "    for chunk in response.iter_content(chunk_size=1024):\n",
    "        if chunk:\n",
    "            file.write(chunk)\n",
    "\n",
    "print(f\"Downloaded {file_name} to {folder_name}\")\n",
    "\n",
    "# Extract the file in the 'flowers' folder\n",
    "if file_path.endswith(\"tar.gz\"):\n",
    "    with tarfile.open(file_path, \"r:gz\") as tar:\n",
    "        tar.extractall(path=folder_name)\n",
    "        print(f\"Extracted {file_name} to {folder_name}\")\n",
    "\n",
    "# Clean up by removing the tar.gz file after extraction\n",
    "os.remove(file_path)\n",
    "print(f\"Removed the downloaded tar.gz file: {file_path}\")"
   ]
  },
  {
   "cell_type": "code",
   "execution_count": 14,
   "metadata": {},
   "outputs": [],
   "source": [
    "# Imports here\n",
    "import torch                        # Using tensor and its operation for deep learning\n",
    "import torchvision                  # Image processing and pre-training the models\n",
    "from torchvision import datasets, transforms, models\n",
    "import numpy as np\n",
    "import matplotlib.pyplot as plt\n",
    "from PIL import Image\n",
    "import os\n",
    "import json\n",
    "import shutil\n",
    "import torch.optim as optim\n",
    "\n",
    "# some contrains\n",
    "input_size = 25088\n",
    "path_to_checkpoint = os.path.join('.','checkpoint.pth')\n",
    "learning_rate = 0.001"
   ]
  },
  {
   "cell_type": "markdown",
   "metadata": {},
   "source": [
    "## Load the data\n",
    "\n",
    "Here you'll use `torchvision` to load the data ([documentation](http://pytorch.org/docs/master/torchvision/transforms.html#)). The data should be included alongside this notebook, otherwise you can [download it here](https://s3.amazonaws.com/content.udacity-data.com/nd089/flower_data.tar.gz). The dataset is split into three parts, training, validation, and testing. For the training, you'll want to apply transformations such as random scaling, cropping, and flipping. This will help the network generalize leading to better performance. You'll also need to make sure the input data is resized to 224x224 pixels as required by the pre-trained networks.\n",
    "\n",
    "The validation and testing sets are used to measure the model's performance on data it hasn't seen yet. For this you don't want any scaling or rotation transformations, but you'll need to resize then crop the images to the appropriate size.\n",
    "\n",
    "For all three sets you'll need to normalize the means and standard deviations of the images to what the network expects. For the means, it's `[0.485, 0.456, 0.406]` and for the standard deviations `[0.229, 0.224, 0.225]`. This converts the values of each color channel to be between -1 and 1 instead of 0 and 1."
   ]
  },
  {
   "cell_type": "code",
   "execution_count": 2,
   "metadata": {},
   "outputs": [],
   "source": [
    "data_dir = os.path.join('.', 'flowers')\n",
    "train_dir = os.path.join(data_dir, 'train')\n",
    "valid_dir = os.path.join(data_dir, 'valid')\n",
    "test_dir = os.path.join(data_dir, 'test')"
   ]
  },
  {
   "cell_type": "code",
   "execution_count": 4,
   "metadata": {},
   "outputs": [],
   "source": [
    "## I just choose my favorite numbers for all train, test, valid data.\n",
    "# The whole point of this project is learn how to implement a model for Multi-Class Classification.\n",
    "# So, I will remove all other train, test, valid category and only keep 10 classes\n",
    "my_fav_class = [1, 2, 10, 15, 20, 22, 63, 64, 90, 92] \n",
    "\n",
    "def clean_directories(main_directory, my_fav_class):\n",
    "    \"\"\"\n",
    "    Deletes subdirectories in the main directory that are not listed in my_fav_class.\n",
    "    Args:\n",
    "        main_directory (str): The path to the main directory containing subdirectories.\n",
    "        my_fav_class (List[int]): A list of favorite class names (as integers).\n",
    "    Returns:\n",
    "        None\n",
    "    \"\"\"\n",
    "    # Loop through subdirectories inside the main directory\n",
    "    for subdir in os.listdir(main_directory):\n",
    "        # print(subdir)\n",
    "        subdir_path = os.path.join(main_directory, subdir)\n",
    "        if os.path.isdir(subdir_path):\n",
    "            # Check if the subdirectory name is numeric\n",
    "            if subdir.isdigit():\n",
    "                # Convert subdirectory name to integer and check if it's in my_fav_class\n",
    "                if int(subdir) not in my_fav_class:\n",
    "                    # Delete the subdirectory\n",
    "                    shutil.rmtree(subdir_path)\n",
    "                    print(f\"Deleted: {subdir_path}\")\n",
    "            elif subdir in ['train', 'valid', 'test']:\n",
    "                clean_directories(subdir_path, my_fav_class)\n",
    "clean_directories(data_dir, my_fav_class)"
   ]
  },
  {
   "cell_type": "code",
   "execution_count": 5,
   "metadata": {},
   "outputs": [],
   "source": [
    "## Apply transformation to train data: scaling, cropping, and flipping\n",
    "# Apply transformations in pipeline: Rando scaling, cropping, and flipping\n",
    "train_transforms = transforms.Compose([\n",
    "    transforms.RandomResizedCrop(224),      # Randomly crop and resize to 224x224\n",
    "    transforms.RandomHorizontalFlip(),      # Randomly flip the image horizontally\n",
    "    transforms.ToTensor(),                  # Convert the image to a tensor\n",
    "    transforms.Normalize(mean=[0.485, 0.456, 0.406], std=[0.229, 0.224, 0.225])  # Normalize with ImageNet stats\n",
    "])\n",
    "# No need to scaling or rotate for validation, and testing data but we want the data have the same size 224x224\n",
    "valid_test_transforms = transforms.Compose([\n",
    "    transforms.Resize(256),                 # Resize the image to 256x256, a common used value\n",
    "    transforms.CenterCrop(224),             # Center crop to 224x224, this is mandatory because our train data using this size\n",
    "    transforms.ToTensor(),                  # Convert the image to a tensor\n",
    "    transforms.Normalize(mean=[0.485, 0.456, 0.406], std=[0.229, 0.224, 0.225])  # Normalize with ImageNet stats\n",
    "])\n",
    "# Load the datasets with ImageFolder\n",
    "# Result is dictionary with key are train, valid, or test. \n",
    "# Value are 3 ImageFolder objects from torchvision.datasets\n",
    "image_datasets = {\n",
    "    'train': datasets.ImageFolder(root=train_dir, transform=train_transforms),\n",
    "    'valid': datasets.ImageFolder(root=valid_dir, transform=valid_test_transforms),\n",
    "    'test': datasets.ImageFolder(root=test_dir, transform=valid_test_transforms),\n",
    "}\n",
    "\n",
    "batch_size = 64 # Choose same value as 5.10 lesson\n",
    "\n",
    "# Using the image datasets and the trainforms, define the dataloaders\n",
    "# Result is dictionary with key are train, valid, or test.\n",
    "# Value are 3 DataLoader objects from torch.utils.data\n",
    "dataloaders = {\n",
    "    'train' : torch.utils.data.DataLoader(image_datasets['train'], batch_size=batch_size, shuffle=True), # Train data should be shuffle\n",
    "    'valid' : torch.utils.data.DataLoader(image_datasets['valid'], batch_size=batch_size, shuffle=False),\n",
    "    'test' : torch.utils.data.DataLoader(image_datasets['test'], batch_size=batch_size, shuffle=False)\n",
    "}"
   ]
  },
  {
   "cell_type": "markdown",
   "metadata": {},
   "source": [
    "### Label mapping\n",
    "\n",
    "You'll also need to load in a mapping from category label to category name. You can find this in the file `cat_to_name.json`. It's a JSON object which you can read in with the [`json` module](https://docs.python.org/2/library/json.html). This will give you a dictionary mapping the integer encoded categories to the actual names of the flowers."
   ]
  },
  {
   "cell_type": "code",
   "execution_count": 6,
   "metadata": {},
   "outputs": [
    {
     "name": "stdout",
     "output_type": "stream",
     "text": [
      "10\n"
     ]
    }
   ],
   "source": [
    "import json\n",
    "import random\n",
    "\n",
    "cat_to_name_file = os.path.join('.', 'cat_to_name.json')\n",
    "\n",
    "with open(cat_to_name_file, 'r') as f:\n",
    "    cat_to_name = json.load(f)\n",
    "print(len(cat_to_name)) # It should be 102 at the original\n",
    "\n",
    "if(len(cat_to_name) != len(my_fav_class)):\n",
    "    # I only want to keep my_fav_class class only\n",
    "    cat_to_name = {key: value for key, value in cat_to_name.items() if int(key) in my_fav_class}\n",
    "    print(len(cat_to_name))  # Should be 10 now\n",
    "    with open(cat_to_name_file, 'w') as json_file:\n",
    "        json.dump(cat_to_name, json_file, indent=4)"
   ]
  },
  {
   "cell_type": "markdown",
   "metadata": {},
   "source": [
    "# Building and training the classifier\n",
    "\n",
    "Now that the data is ready, it's time to build and train the classifier. As usual, you should use one of the pretrained models from `torchvision.models` to get the image features. Build and train a new feed-forward classifier using those features.\n",
    "\n",
    "We're going to leave this part up to you. If you want to talk through it with someone, chat with your fellow students! You can also ask questions on the forums or join the instructors in office hours.\n",
    "\n",
    "Refer to [the rubric](https://review.udacity.com/#!/rubrics/1663/view) for guidance on successfully completing this section. Things you'll need to do:\n",
    "\n",
    "* Load a [pre-trained network](http://pytorch.org/docs/master/torchvision/models.html) (If you need a starting point, the VGG networks work great and are straightforward to use)\n",
    "* Define a new, untrained feed-forward network as a classifier, using ReLU activations and dropout\n",
    "* Train the classifier layers using backpropagation using the pre-trained network to get the features\n",
    "* Track the loss and accuracy on the validation set to determine the best hyperparameters\n",
    "\n",
    "We've left a cell open for you below, but use as many as you need. Our advice is to break the problem up into smaller parts you can run separately. Check that each part is doing what you expect, then move on to the next. You'll likely find that as you work through each part, you'll need to go back and modify your previous code. This is totally normal!\n",
    "\n",
    "When training make sure you're updating only the weights of the feed-forward network. You should be able to get the validation accuracy above 70% if you build everything right. Make sure to try different hyperparameters (learning rate, units in the classifier, epochs, etc) to find the best model. Save those hyperparameters to use as default values in the next part of the project."
   ]
  },
  {
   "cell_type": "code",
   "execution_count": 7,
   "metadata": {},
   "outputs": [
    {
     "data": {
      "text/plain": [
       "[Linear(in_features=25088, out_features=4096, bias=True),\n",
       " ReLU(inplace=True),\n",
       " Dropout(p=0.5, inplace=False),\n",
       " Linear(in_features=4096, out_features=4096, bias=True),\n",
       " ReLU(inplace=True),\n",
       " Dropout(p=0.5, inplace=False),\n",
       " Linear(in_features=4096, out_features=1000, bias=True)]"
      ]
     },
     "execution_count": 7,
     "metadata": {},
     "output_type": "execute_result"
    }
   ],
   "source": [
    "## 1. Load a pre-trained network (vgg16)\n",
    "\n",
    "from torchvision import models\n",
    "from torchvision.models import VGG16_Weights\n",
    "\n",
    "# Load the pre-trained model\n",
    "model = models.vgg16(weights=VGG16_Weights.IMAGENET1K_V1)\n",
    "# Make sure parameters are frozen (during training, the weights of the pretrained layers will not be updated.)\n",
    "for param in model.parameters():\n",
    "    param.requires_grad = False\n",
    "\n",
    "list(model.classifier.children())"
   ]
  },
  {
   "cell_type": "code",
   "execution_count": 8,
   "metadata": {},
   "outputs": [
    {
     "name": "stdout",
     "output_type": "stream",
     "text": [
      "CUDA is available. Using GPU.\n"
     ]
    },
    {
     "data": {
      "text/plain": [
       "[Linear(in_features=25088, out_features=4096, bias=True),\n",
       " ReLU(),\n",
       " Dropout(p=0.5, inplace=False),\n",
       " Linear(in_features=4096, out_features=4096, bias=True),\n",
       " ReLU(),\n",
       " Dropout(p=0.5, inplace=False),\n",
       " Linear(in_features=4096, out_features=10, bias=True)]"
      ]
     },
     "execution_count": 8,
     "metadata": {},
     "output_type": "execute_result"
    }
   ],
   "source": [
    "## 2. Define a new, untrained feed-forward network as a classifier, using ReLU activations and dropout\n",
    "import torch.nn as nn\n",
    "\n",
    "if torch.cuda.is_available():\n",
    "    device = torch.device(\"cuda\")\n",
    "    print(\"CUDA is available. Using GPU.\")\n",
    "else:\n",
    "    device = torch.device(\"cpu\")\n",
    "    print(\"CUDA is not available. Using CPU.\")\n",
    "\n",
    "# Move the model to the GPU\n",
    "model.to(device)\n",
    "\n",
    "output_size = len(cat_to_name)\n",
    "\n",
    "# Create the feedforward classifier using nn.Sequential\n",
    "classifier = nn.Sequential(\n",
    "    nn.Linear(input_size, 4096),                 # First fully connected layer\n",
    "    nn.ReLU(),                              # Activation function\n",
    "    nn.Dropout(p=0.5),                      # Dropout layer for regularization\n",
    "    nn.Linear(4096, 4096),                  # Second fully connected layer\n",
    "    nn.ReLU(),                              # Activation function\n",
    "    nn.Dropout(p=0.5),                      # Dropout layer for regularization\n",
    "    nn.Linear(4096, output_size)            # Output layer\n",
    ")\n",
    "\n",
    "# Replace the classifier\n",
    "model.classifier = classifier\n",
    "list(model.classifier.children())"
   ]
  },
  {
   "cell_type": "code",
   "execution_count": null,
   "metadata": {},
   "outputs": [],
   "source": [
    "## 3. Train the classifier layers using backpropagation using the pre-trained network to get the features\n",
    "## 4. Track the loss and accuracy on the validation set to determine the best hyperparameters\n",
    "import torch\n",
    "import torch.optim as optim\n",
    "import time\n",
    "\n",
    "# Define the loss function and optimizer\n",
    "criterion = nn.CrossEntropyLoss()\n",
    "optimizer = optim.Adam(model.classifier.parameters(), lr=learning_rate)\n",
    "\n",
    "# Train\n",
    "validation_loss = 0.0\n",
    "model = model.to(device)\n",
    "begin = time.time()\n",
    "num_epochs = 5 # I run with epoch = 12 first but look like 5 is the best option\n",
    "for epoch in range(num_epochs):\n",
    "    model.train()\n",
    "    running_loss = 0.0\n",
    "    for imgs, labels in dataloaders['train']:\n",
    "        imgs, labels = imgs.to(device), labels.to(device)       # Move data to GPU\n",
    "        optimizer.zero_grad()                                   # Clear the gradients \n",
    "        outputs = model(imgs)\n",
    "        loss = criterion(outputs, labels)\n",
    "        loss.backward()\n",
    "        optimizer.step()\n",
    "        running_loss += loss.item()\n",
    "\n",
    "    print(f\"Epoch {epoch+1}/{num_epochs}\")\n",
    "\n",
    "    # Validation loop (optional)\n",
    "    model.eval()\n",
    "    valid_loss = 0.0\n",
    "    with torch.no_grad():\n",
    "        for imgs, labels in dataloaders['valid']:\n",
    "            imgs, labels = imgs.to(device), labels.to(device)  # Move data to GPU\n",
    "            outputs = model(imgs)\n",
    "            loss = criterion(outputs, labels)\n",
    "            valid_loss += loss.item()\n",
    "    label_width = max(len('Training Loss:'), len('Validation Loss:')) + 1\n",
    "    print(f\"{'Training Loss:':<{label_width}} {(running_loss/len(dataloaders['train'])):.4f}\")\n",
    "    validation_loss = valid_loss/len(dataloaders['valid'])\n",
    "    print(f\"{'Validation Loss:':<{label_width}} {validation_loss:.4f}\")\n",
    "    print('-' * 50)\n",
    "time_elapsed = time.time() - begin\n",
    "print(f'Training completed after {time_elapsed // 60:.0f}m {time_elapsed % 60:.0f}s')"
   ]
  },
  {
   "cell_type": "markdown",
   "metadata": {},
   "source": [
    "## Testing your network\n",
    "\n",
    "It's good practice to test your trained network on test data, images the network has never seen either in training or validation. This will give you a good estimate for the model's performance on completely new images. Run the test images through the network and measure the accuracy, the same way you did validation. You should be able to reach around 70% accuracy on the test set if the model has been trained well."
   ]
  },
  {
   "cell_type": "code",
   "execution_count": null,
   "metadata": {},
   "outputs": [],
   "source": [
    "## Do validation on the test set\n",
    "model.eval()  # Set the model to evaluation mode\n",
    "\n",
    "correct = 0\n",
    "total = 0\n",
    "\n",
    "with torch.no_grad():  # Disable gradient calculation\n",
    "    for imgs, labels in dataloaders['test']:\n",
    "        imgs, labels = imgs.to(device), labels.to(device)\n",
    "        outputs = model(imgs)  # Get model predictions\n",
    "        _, predicted = torch.max(outputs.data, 1)  # Get the predicted class (this is Multi-class classification so could use F.log_softmax or torch.max)\n",
    "        total += labels.size(0)  # Count total samples\n",
    "        correct += (predicted == labels).sum().item()  # Count correct predictions\n",
    "\n",
    "accuracy = correct / total  # Calculate accuracy\n",
    "print(f'Test Accuracy: {accuracy * 100:.2f}%')"
   ]
  },
  {
   "cell_type": "markdown",
   "metadata": {},
   "source": [
    "## Save the checkpoint\n",
    "\n",
    "Now that your network is trained, save the model so you can load it later for making predictions. You probably want to save other things such as the mapping of classes to indices which you get from one of the image datasets: `image_datasets['train'].class_to_idx`. You can attach this to the model as an attribute which makes inference easier later on.\n",
    "\n",
    "```model.class_to_idx = image_datasets['train'].class_to_idx```\n",
    "\n",
    "Remember that you'll want to completely rebuild the model later so you can use it for inference. Make sure to include any information you need in the checkpoint. If you want to load the model and keep training, you'll want to save the number of epochs as well as the optimizer state, `optimizer.state_dict`. You'll likely want to use this trained model in the next part of the project, so best to save it now."
   ]
  },
  {
   "cell_type": "code",
   "execution_count": null,
   "metadata": {},
   "outputs": [],
   "source": [
    "# Save the checkpoint\n",
    "model.class_to_idx = image_datasets['train'].class_to_idx\n",
    "\n",
    "# Create the checkpoint dictionary\n",
    "checkpoint = {\n",
    "    'epoch': num_epochs,\n",
    "    'model_state_dict': model.state_dict(),\n",
    "    'optimizer_state_dict': optimizer.state_dict(),\n",
    "    'validation_loss': validation_loss,\n",
    "    'class_to_idx' : model.class_to_idx,\n",
    "    'test_accuracy' : accuracy\n",
    "}\n",
    "\n",
    "# print(checkpoint)\n",
    "\n",
    "# Save the checkpoint\n",
    "torch.save(checkpoint, path_to_checkpoint)\n",
    "\n",
    "print(f\"Checkpoint {path_to_checkpoint} saved successfully!\")"
   ]
  },
  {
   "cell_type": "markdown",
   "metadata": {},
   "source": [
    "## Loading the checkpoint\n",
    "\n",
    "At this point it's good to write a function that can load a checkpoint and rebuild the model. That way you can come back to this project and keep working on it without having to retrain the network."
   ]
  },
  {
   "cell_type": "code",
   "execution_count": 15,
   "metadata": {},
   "outputs": [
    {
     "name": "stdout",
     "output_type": "stream",
     "text": [
      "Checkpoint loaded .\\checkpoint.pth\n",
      "Epoch 5, Validation Loss 0.21, Test Accuracy: 94.83%\n"
     ]
    }
   ],
   "source": [
    "# Write a function that loads a checkpoint and rebuilds the model\n",
    "# Load the checkpoint\n",
    "checkpoint = torch.load(path_to_checkpoint)\n",
    "\n",
    "# Load the pre-trained model\n",
    "model_loaded = models.vgg16(weights=VGG16_Weights.IMAGENET1K_V1)\n",
    "# Make sure parameters are frozen (during training, the weights of the pretrained layers will not be updated.)\n",
    "for param in model.parameters():\n",
    "    param.requires_grad = False\n",
    "\n",
    "# Recreate the model architecture using nn.Sequential\n",
    "model_loaded.classifier = nn.Sequential(\n",
    "    nn.Linear(input_size, 4096),            # First fully connected layer\n",
    "    nn.ReLU(),                              # Activation function\n",
    "    nn.Dropout(p=0.5),                      # Dropout layer for regularization\n",
    "    nn.Linear(4096, 4096),                  # Second fully connected layer\n",
    "    nn.ReLU(),                              # Activation function\n",
    "    nn.Dropout(p=0.5),                      # Dropout layer for regularization\n",
    "    nn.Linear(4096, output_size)            # Output layer\n",
    ")\n",
    "\n",
    "# Load everything from the checkpint to loaded model\n",
    "model_loaded.load_state_dict(checkpoint['model_state_dict'])\n",
    "optimizer_loaded = optim.Adam(model.classifier.parameters(), lr=learning_rate)\n",
    "optimizer_loaded.load_state_dict(checkpoint['optimizer_state_dict'])\n",
    "num_epochs = checkpoint['epoch']\n",
    "validation_loss = checkpoint['validation_loss']\n",
    "class_to_idx = checkpoint['class_to_idx']\n",
    "accuracy = checkpoint['test_accuracy']\n",
    "\n",
    "print(f\"Checkpoint loaded {path_to_checkpoint}\")\n",
    "print(f\"Epoch {num_epochs}, Validation Loss {validation_loss:.2f}, Test Accuracy: {accuracy * 100:.2f}%\")"
   ]
  },
  {
   "cell_type": "markdown",
   "metadata": {},
   "source": [
    "# Inference for classification\n",
    "\n",
    "Now you'll write a function to use a trained network for inference. That is, you'll pass an image into the network and predict the class of the flower in the image. Write a function called `predict` that takes an image and a model, then returns the top $K$ most likely classes along with the probabilities. It should look like \n",
    "\n",
    "```python\n",
    "probs, classes = predict(image_path, model)\n",
    "print(probs)\n",
    "print(classes)\n",
    "> [ 0.01558163  0.01541934  0.01452626  0.01443549  0.01407339]\n",
    "> ['70', '3', '45', '62', '55']\n",
    "```\n",
    "\n",
    "First you'll need to handle processing the input image such that it can be used in your network. \n",
    "\n",
    "## Image Preprocessing\n",
    "\n",
    "You'll want to use `PIL` to load the image ([documentation](https://pillow.readthedocs.io/en/latest/reference/Image.html)). It's best to write a function that preprocesses the image so it can be used as input for the model. This function should process the images in the same manner used for training. \n",
    "\n",
    "First, resize the images where the shortest side is 256 pixels, keeping the aspect ratio. This can be done with the [`thumbnail`](http://pillow.readthedocs.io/en/3.1.x/reference/Image.html#PIL.Image.Image.thumbnail) or [`resize`](http://pillow.readthedocs.io/en/3.1.x/reference/Image.html#PIL.Image.Image.thumbnail) methods. Then you'll need to crop out the center 224x224 portion of the image.\n",
    "\n",
    "Color channels of images are typically encoded as integers 0-255, but the model expected floats 0-1. You'll need to convert the values. It's easiest with a Numpy array, which you can get from a PIL image like so `np_image = np.array(pil_image)`.\n",
    "\n",
    "As before, the network expects the images to be normalized in a specific way. For the means, it's `[0.485, 0.456, 0.406]` and for the standard deviations `[0.229, 0.224, 0.225]`. You'll want to subtract the means from each color channel, then divide by the standard deviation. \n",
    "\n",
    "And finally, PyTorch expects the color channel to be the first dimension but it's the third dimension in the PIL image and Numpy array. You can reorder dimensions using [`ndarray.transpose`](https://docs.scipy.org/doc/numpy-1.13.0/reference/generated/numpy.ndarray.transpose.html). The color channel needs to be first and retain the order of the other two dimensions."
   ]
  },
  {
   "cell_type": "code",
   "execution_count": null,
   "metadata": {},
   "outputs": [],
   "source": [
    "# My original image is 920x920\n",
    "image_path = os.path.join('.', 'flowers/predict/92/scarlet-beebalm.jpg') \n",
    "\n",
    "def process_image(image_path:str):\n",
    "    ''' Scales, crops, and normalizes a PIL image for a PyTorch model,\n",
    "        returns an Numpy array\n",
    "    '''\n",
    "    # Process a PIL image for use in a PyTorch model\n",
    "    preprocess = transforms.Compose([\n",
    "        transforms.Resize(256),             # Resize the image to 256x256\n",
    "        transforms.CenterCrop(224),         # Crop the center of the image to 224x224\n",
    "        transforms.ToTensor(),              # Convert the image to a tensor\n",
    "        transforms.Normalize(mean=[0.485, 0.456, 0.406], std=[0.229, 0.224, 0.225])  # Normalize the image\n",
    "    ])\n",
    "    # Load the image\n",
    "    image = Image.open(image_path)\n",
    "\n",
    "     # Apply the transformations\n",
    "    image = preprocess(image)\n",
    "    \n",
    "    # Convert to NumPy array and reorder dimensions\n",
    "    image = image.numpy()  # Convert to NumPy array\n",
    "    image = np.transpose(image, (1, 2, 0))  # Reorder dimensions: (C, H, W) to (H, W, C)\n",
    "    \n",
    "    return image\n",
    "\n",
    "processed_img = process_image(image_path)"
   ]
  },
  {
   "cell_type": "markdown",
   "metadata": {},
   "source": [
    "To check your work, the function below converts a PyTorch tensor and displays it in the notebook. If your `process_image` function works, running the output through this function should return the original image (except for the cropped out portions)."
   ]
  },
  {
   "cell_type": "code",
   "execution_count": null,
   "metadata": {},
   "outputs": [],
   "source": [
    "def imshow(image, ax=None, title=None):\n",
    "    \"\"\"Imshow for Tensor.\"\"\"\n",
    "    if ax is None:\n",
    "        fig, ax = plt.subplots()\n",
    "    \n",
    "    # PyTorch tensors assume the color channel is the first dimension\n",
    "    # but matplotlib assumes is the third dimension\n",
    "    image = image.numpy().transpose((1, 2, 0))\n",
    "    \n",
    "    # Undo preprocessing\n",
    "    mean = np.array([0.485, 0.456, 0.406])\n",
    "    std = np.array([0.229, 0.224, 0.225])\n",
    "    image = std * image + mean\n",
    "    \n",
    "    # Image needs to be clipped between 0 and 1 or it looks like noise when displayed\n",
    "    image = np.clip(image, 0, 1)\n",
    "    \n",
    "    ax.imshow(image)\n",
    "    \n",
    "    return ax"
   ]
  },
  {
   "cell_type": "markdown",
   "metadata": {},
   "source": [
    "## Class Prediction\n",
    "\n",
    "Once you can get images in the correct format, it's time to write a function for making predictions with your model. A common practice is to predict the top 5 or so (usually called top-$K$) most probable classes. You'll want to calculate the class probabilities then find the $K$ largest values.\n",
    "\n",
    "To get the top $K$ largest values in a tensor use [`x.topk(k)`](http://pytorch.org/docs/master/torch.html#torch.topk). This method returns both the highest `k` probabilities and the indices of those probabilities corresponding to the classes. You need to convert from these indices to the actual class labels using `class_to_idx` which hopefully you added to the model or from an `ImageFolder` you used to load the data ([see here](#Save-the-checkpoint)). Make sure to invert the dictionary so you get a mapping from index to class as well.\n",
    "\n",
    "Again, this method should take a path to an image and a model checkpoint, then return the probabilities and classes.\n",
    "\n",
    "```python\n",
    "probs, classes = predict(image_path, model)\n",
    "print(probs)\n",
    "print(classes)\n",
    "> [ 0.01558163  0.01541934  0.01452626  0.01443549  0.01407339]\n",
    "> ['70', '3', '45', '62', '55']\n",
    "```"
   ]
  },
  {
   "cell_type": "code",
   "execution_count": null,
   "metadata": {},
   "outputs": [],
   "source": [
    "def predict(image_path, model, topk=5):\n",
    "    ''' Predict the class (or classes) of an image using a trained deep learning model.\n",
    "    '''\n",
    "    \n",
    "    # TODO: Implement the code to predict the class from an image file"
   ]
  },
  {
   "cell_type": "markdown",
   "metadata": {},
   "source": [
    "## Sanity Checking\n",
    "\n",
    "Now that you can use a trained model for predictions, check to make sure it makes sense. Even if the testing accuracy is high, it's always good to check that there aren't obvious bugs. Use `matplotlib` to plot the probabilities for the top 5 classes as a bar graph, along with the input image. It should look like this:\n",
    "\n",
    "<img src='assets/inference_example.png' width=300px>\n",
    "\n",
    "You can convert from the class integer encoding to actual flower names with the `cat_to_name.json` file (should have been loaded earlier in the notebook). To show a PyTorch tensor as an image, use the `imshow` function defined above."
   ]
  },
  {
   "cell_type": "code",
   "execution_count": null,
   "metadata": {},
   "outputs": [],
   "source": [
    "# TODO: Display an image along with the top 5 classes"
   ]
  }
 ],
 "metadata": {
  "kernelspec": {
   "display_name": "Python 3 (ipykernel)",
   "language": "python",
   "name": "python3"
  },
  "language_info": {
   "codemirror_mode": {
    "name": "ipython",
    "version": 3
   },
   "file_extension": ".py",
   "mimetype": "text/x-python",
   "name": "python",
   "nbconvert_exporter": "python",
   "pygments_lexer": "ipython3",
   "version": "3.9.19"
  }
 },
 "nbformat": 4,
 "nbformat_minor": 2
}
